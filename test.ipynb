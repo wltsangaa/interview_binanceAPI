{
 "cells": [
  {
   "cell_type": "code",
   "execution_count": 16,
   "metadata": {
    "ExecuteTime": {
     "end_time": "2021-08-17T05:38:50.192493Z",
     "start_time": "2021-08-17T05:38:49.997180Z"
    }
   },
   "outputs": [],
   "source": [
    "附件为未经处理的btc500小时k线图。\n",
    "请完成如下任务:\n",
    "1.算出SMA(7hour),SMA(25hour),Bollinger Band(15H),RSI曲线,并用在同一张k线蜡烛图表中绘制出来。（30%）\n",
    "2.请根据上面得到的indicator或其他indicator设计一个单因子或多因子的策略，并回测出策略的Maximum Drawdown,Profit_and Loss,Sharp ratio。（40%）\n",
    "3.附件中附带了一个test-monitor api的json文件，请仅使用requests库和其他数学库获得此api对应账户的BTCUSDT永续合约和ETHUSDT永续合约持仓模式（参考币安文档：GET /fapi/v1/positionSide/dual）（30%）\n",
    "4.（附加题目）使用 asyncio 模块将第三部分设计成60s循环一次的单线程任务。保存log文件。 （20%）\n",
    "\n",
    "Data_Path:'./BTCusdt_test.csv'\n",
    "credentials_path:'./test.json'\n",
    "部分参考网页：'https://binance-docs.github.io/apidocs/futures/cn/'\n",
    "            'https://pypi.org/project/mplfinance/'\n"
   ]
  }
 ],
 "metadata": {
  "kernelspec": {
   "display_name": "Python 3",
   "language": "python",
   "name": "python3"
  },
  "language_info": {
   "codemirror_mode": {
    "name": "ipython",
    "version": 3
   },
   "file_extension": ".py",
   "mimetype": "text/x-python",
   "name": "python",
   "nbconvert_exporter": "python",
   "pygments_lexer": "ipython3",
   "version": "3.8.5"
  },
  "toc": {
   "base_numbering": 1,
   "nav_menu": {},
   "number_sections": true,
   "sideBar": true,
   "skip_h1_title": false,
   "title_cell": "Table of Contents",
   "title_sidebar": "Contents",
   "toc_cell": false,
   "toc_position": {},
   "toc_section_display": true,
   "toc_window_display": false
  }
 },
 "nbformat": 4,
 "nbformat_minor": 4
}
